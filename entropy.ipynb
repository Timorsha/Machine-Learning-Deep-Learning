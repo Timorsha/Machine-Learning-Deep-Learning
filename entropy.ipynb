{
  "nbformat": 4,
  "nbformat_minor": 0,
  "metadata": {
    "kernelspec": {
      "display_name": "Python 3",
      "language": "python",
      "name": "python3"
    },
    "language_info": {
      "codemirror_mode": {
        "name": "ipython",
        "version": 3
      },
      "file_extension": ".py",
      "mimetype": "text/x-python",
      "name": "python",
      "nbconvert_exporter": "python",
      "pygments_lexer": "ipython3",
      "version": "3.7.3"
    },
    "colab": {
      "name": "Exercise 2 - Solution.ipynb",
      "provenance": [],
      "collapsed_sections": []
    }
  },
  "cells": [
    {
      "cell_type": "markdown",
      "metadata": {
        "id": "REJP3GCShtLp",
        "colab_type": "text"
      },
      "source": [
        "\n",
        "\n",
        "\n",
        "# Basics\n",
        "\n",
        "In this exercise we look at simulating rolling a dice and calculate the entropy of the resulting distribution. Your homework will consist of implementating some small changes to the program (see below).\n",
        "\n",
        "Same imports as in Ex1."
      ]
    },
    {
      "cell_type": "code",
      "metadata": {
        "id": "gVpdK3bChtLq",
        "colab_type": "code",
        "colab": {}
      },
      "source": [
        "import numpy as np\n",
        "import matplotlib.pyplot as plt"
      ],
      "execution_count": null,
      "outputs": []
    },
    {
      "cell_type": "markdown",
      "metadata": {
        "id": "hssjXN4nhtLu",
        "colab_type": "text"
      },
      "source": [
        "**Prepare the dice rolls**\n",
        "\n",
        "Use the [randint] function to generate 20 random integers. Careful about the boundaries - the lower bound is inclusive, the upper bounds is exclusive. So this gives us a standard 6-sided dice.\n",
        "\n",
        "[randint]: https://docs.scipy.org/doc/numpy/reference/generated/numpy.random.randint.html#numpy.random.randint"
      ]
    },
    {
      "cell_type": "code",
      "metadata": {
        "id": "Z8Y5NT_yhtLv",
        "colab_type": "code",
        "colab": {}
      },
      "source": [
        "dice_rolls = np.random.randint(1,7,20)"
      ],
      "execution_count": null,
      "outputs": []
    },
    {
      "cell_type": "markdown",
      "metadata": {
        "id": "0x8D5fY8htLx",
        "colab_type": "text"
      },
      "source": [
        "Verify that the distribution behaves as we expect:\n"
      ]
    },
    {
      "cell_type": "code",
      "metadata": {
        "id": "5I7Xi2IshtLx",
        "colab_type": "code",
        "colab": {
          "base_uri": "https://localhost:8080/",
          "height": 68
        },
        "outputId": "c74828e9-5b68-4747-b9fd-8c40ea6176e7"
      },
      "source": [
        "print(\"Mean: \", np.mean(dice_rolls))\n",
        "print(\"Min: \", np.min(dice_rolls))\n",
        "print(\"Max: \", np.max(dice_rolls))"
      ],
      "execution_count": null,
      "outputs": [
        {
          "output_type": "stream",
          "text": [
            "Mean:  3.6\n",
            "Min:  1\n",
            "Max:  6\n"
          ],
          "name": "stdout"
        }
      ]
    },
    {
      "cell_type": "markdown",
      "metadata": {
        "id": "NfIE3AEGhtL2",
        "colab_type": "text"
      },
      "source": [
        "**Calculate the entropy of the distribution.**\n",
        "\n",
        "There exist more elegant ways as well as premade functions for this task, but the goal is also to learn how to write a simple loop.\n",
        "\n",
        "First we need to convert the list of dice rolls into the probabilities to roll each number 1..6. To this we start by counting the occurances of each number, and then divide by the total rools. Then we use the formula from the lecture to calculate the entropy."
      ]
    },
    {
      "cell_type": "code",
      "metadata": {
        "id": "qCRLoB1ahtL2",
        "colab_type": "code",
        "colab": {
          "base_uri": "https://localhost:8080/",
          "height": 85
        },
        "outputId": "24c0704a-665f-4a2c-c726-a26b738dab04"
      },
      "source": [
        "# Create an array with six entries, each time the number zero\n",
        "counts = np.zeros(6)\n",
        "print(\"Before counting:\")\n",
        "print(counts)\n",
        "\n",
        "# This loops over all dice rolls\n",
        "for roll in dice_rolls:\n",
        "    # Increment the corresponding entry in the list of counts.\n",
        "    # CAREFUL: Python array indices start at zero\n",
        "    # This means we store the total number of ones in couts[0], \n",
        "    # the numbers of twos in counts[1], and so on.\n",
        "    counts[roll-1] = counts[roll-1] + 1\n",
        "print(\"After counting:\")\n",
        "print(counts)"
      ],
      "execution_count": null,
      "outputs": [
        {
          "output_type": "stream",
          "text": [
            "Before counting:\n",
            "[0. 0. 0. 0. 0. 0.]\n",
            "After counting:\n",
            "[3. 4. 1. 4. 6. 2.]\n"
          ],
          "name": "stdout"
        }
      ]
    },
    {
      "cell_type": "code",
      "metadata": {
        "id": "zvb0e55XhtL4",
        "colab_type": "code",
        "colab": {
          "base_uri": "https://localhost:8080/",
          "height": 34
        },
        "outputId": "6063a5d9-a62a-4951-cd27-a758298a8bdf"
      },
      "source": [
        "# Turn into probabilities by dividing by the number of total events\n",
        "probs = counts / len(dice_rolls)\n",
        "print(\"Probabilities:\", probs)"
      ],
      "execution_count": null,
      "outputs": [
        {
          "output_type": "stream",
          "text": [
            "Probabilities: [0.15 0.2  0.05 0.2  0.3  0.1 ]\n"
          ],
          "name": "stdout"
        }
      ]
    },
    {
      "cell_type": "code",
      "metadata": {
        "id": "9ex5jJsxhtL7",
        "colab_type": "code",
        "colab": {
          "base_uri": "https://localhost:8080/",
          "height": 34
        },
        "outputId": "12399b43-2243-49cc-c402-3867aec205d1"
      },
      "source": [
        "# Calculate entropy\n",
        "entropy = 0.\n",
        "for prob in probs:\n",
        "    entropy += (- prob * np.log2(prob))\n",
        "print(\"The entropy of a dice roll is:\", entropy, \"bits\")"
      ],
      "execution_count": null,
      "outputs": [
        {
          "output_type": "stream",
          "text": [
            "The entropy of a dice roll is: 2.4086949695628417 bits\n"
          ],
          "name": "stdout"
        }
      ]
    },
    {
      "cell_type": "markdown",
      "metadata": {
        "id": "kHoMW1b5htL9",
        "colab_type": "text"
      },
      "source": [
        "# Homework problems:\n",
        "   * We used 20 dice rolls to estimate the entropy. How does the result change for 100, 1000 and 10000 rolls? What is the expected result for a perfect dice?\n",
        "   * What if we had used a ten-sided or a twenty-sided dice instead? Plot the entropy versus the number of sides for at least 4 different values\n",
        "   * Look at this [function] and see how you can use it to simulate an **unfair** six-sided dice. What is the entropy?\n",
        "  \n",
        "[function]: https://docs.scipy.org/doc/numpy-1.15.1/reference/generated/numpy.random.multinomial.html\n",
        "    "
      ]
    },
    {
      "cell_type": "markdown",
      "metadata": {
        "id": "14d-v_jyo3jk",
        "colab_type": "text"
      },
      "source": [
        "# Solutions"
      ]
    },
    {
      "cell_type": "markdown",
      "metadata": {
        "id": "m-f1R4gfo-wX",
        "colab_type": "text"
      },
      "source": [
        "Define a function that calculates the entropy for any number of sides (assuming a fair dice) and number of rolls.\n",
        "\n"
      ]
    },
    {
      "cell_type": "code",
      "metadata": {
        "id": "FlXXC9uWpBej",
        "colab_type": "code",
        "colab": {}
      },
      "source": [
        "def calc_entropy(n_rolls, n_sides):\n",
        "    dice_rolls = np.random.randint(1,1+n_sides,n_rolls)\n",
        "    \n",
        "    # Create an array of zeros with as many entries as we have sides\n",
        "    counts = np.zeros(n_sides)\n",
        "\n",
        "    # This loops over all dice rolls\n",
        "    for roll in dice_rolls:\n",
        "        counts[roll-1] = counts[roll-1] + 1\n",
        "\n",
        "    # Turn into probabilities by dividing by the number of total events\n",
        "    probs = counts / len(dice_rolls)\n",
        "\n",
        "    # Calculate entropy\n",
        "    entropy = 0.\n",
        "    for prob in probs:\n",
        "        entropy += (- prob * np.log2(prob))\n",
        "\n",
        "    return entropy\n"
      ],
      "execution_count": null,
      "outputs": []
    },
    {
      "cell_type": "markdown",
      "metadata": {
        "id": "weOwzbSKpJzf",
        "colab_type": "text"
      },
      "source": [
        "We used 20 dice rolls to estimate the entropy. How does the result change for 100, 1000 and 10000 rolls? What is the expected result for a perfect dice?\n"
      ]
    },
    {
      "cell_type": "code",
      "metadata": {
        "id": "7dH3YKkGpD-U",
        "colab_type": "code",
        "colab": {
          "base_uri": "https://localhost:8080/",
          "height": 85
        },
        "outputId": "7d2a93e0-6801-4a76-8f90-3732a7d9d045"
      },
      "source": [
        "\n",
        "for rolls in [100,1000,10000]:\n",
        "    print(rolls, calc_entropy(rolls,6))\n",
        "\n",
        "print(\"Exact:\", -np.log2(1/6))"
      ],
      "execution_count": null,
      "outputs": [
        {
          "output_type": "stream",
          "text": [
            "100 2.535214847797445\n",
            "1000 2.5824494138219514\n",
            "10000 2.5841862654009207\n",
            "Exact: 2.584962500721156\n"
          ],
          "name": "stdout"
        }
      ]
    },
    {
      "cell_type": "markdown",
      "metadata": {
        "id": "yHrZ6Eo3ptv7",
        "colab_type": "text"
      },
      "source": [
        "What if we had used a ten-sided or a twenty-sided dice instead? Plot the entropy versus the number of sides for at least 4 different values\n"
      ]
    },
    {
      "cell_type": "code",
      "metadata": {
        "id": "npj9WWkcpQqE",
        "colab_type": "code",
        "colab": {
          "base_uri": "https://localhost:8080/",
          "height": 558
        },
        "outputId": "2c169405-cca5-49a0-8537-2886cbf46baf"
      },
      "source": [
        "# Calculate the entropies for different numbers of sides\n",
        "sides = [2,6,10,20,40,100]\n",
        "entropies = [calc_entropy(10000,side) for side in sides]\n",
        "print(entropies)\n",
        "\n",
        "def void():\n",
        "  # And make a graph\n",
        "  plt.plot(sides,entropies)\n",
        "  _ = plt.xlabel(\"Number of Sides\")\n",
        "  _ = plt.ylabel(\"Entropy [bit]\")\n",
        "  plt.show()\n",
        "\n",
        "  plt.clf()\n",
        "  plt.plot(entropies,sides)\n",
        "  _ = plt.xlabel(\"Entropy [bit]\")\n",
        "  _ = plt.ylabel(\"Number of Sides\")\n",
        "  plt.show()\n",
        "  \n",
        "\n",
        "void()"
      ],
      "execution_count": null,
      "outputs": [
        {
          "output_type": "stream",
          "text": [
            "[0.9999860346669425, 2.5847258100079524, 3.321370726538706, 4.321238163226352, 5.319447917470278, 6.636024004298015]\n"
          ],
          "name": "stdout"
        },
        {
          "output_type": "display_data",
          "data": {
            "image/png": "[encoded data removed]",
            "text/plain": [
              "<Figure size 432x288 with 1 Axes>"
            ]
          },
          "metadata": {
            "tags": [],
            "needs_background": "light"
          }
        },
        {
          "output_type": "display_data",
          "data": {
            "image/png": "[encoded data removed]",
            "text/plain": [
              "<Figure size 432x288 with 1 Axes>"
            ]
          },
          "metadata": {
            "tags": [],
            "needs_background": "light"
          }
        }
      ]
    },
    {
      "cell_type": "markdown",
      "metadata": {
        "id": "edZtVOkbp-ko",
        "colab_type": "text"
      },
      "source": [
        "Look at this function and see how you can use it to simulate an unfair six-sided dice. What is the entropy?\n"
      ]
    },
    {
      "cell_type": "code",
      "metadata": {
        "id": "vPs7n0H2pxKk",
        "colab_type": "code",
        "colab": {
          "base_uri": "https://localhost:8080/",
          "height": 34
        },
        "outputId": "f738884f-e0d5-4d8c-b744-70bab488b019"
      },
      "source": [
        "n_rolls = 10000    \n",
        "\n",
        "counts = np.random.multinomial(n_rolls, [0.02, 0.02, 0.02, 0.9, 0.02, 0.02])\n",
        "\n",
        "# Turn into probabilities by dividing by the number of total events\n",
        "probs = counts / n_rolls\n",
        "\n",
        "# Calculate entropy\n",
        "entropy = 0.\n",
        "for prob in probs:\n",
        "    entropy += (- prob * np.log2(prob))\n",
        "\n",
        "print(\"The entropy of a dice roll is:\", entropy, \"bits\")"
      ],
      "execution_count": null,
      "outputs": [
        {
          "output_type": "stream",
          "text": [
            "The entropy of a dice roll is: 0.6708311104833655 bits\n"
          ],
          "name": "stdout"
        }
      ]
    },
    {
      "cell_type": "markdown",
      "metadata": {
        "id": "jbDFPHE5cF7i",
        "colab_type": "text"
      },
      "source": [
        "And the examples from the interactive discussion:"
      ]
    },
    {
      "cell_type": "code",
      "metadata": {
        "id": "wWRYS691qCTN",
        "colab_type": "code",
        "colab": {
          "base_uri": "https://localhost:8080/",
          "height": 34
        },
        "outputId": "8713792f-8971-4730-e48e-33d81b215d46"
      },
      "source": [
        "6*[3] # this is list,"
      ],
      "execution_count": null,
      "outputs": [
        {
          "output_type": "execute_result",
          "data": {
            "text/plain": [
              "[3, 3, 3, 3, 3, 3]"
            ]
          },
          "metadata": {
            "tags": []
          },
          "execution_count": 30
        }
      ]
    },
    {
      "cell_type": "code",
      "metadata": {
        "id": "doZavr4ZWy44",
        "colab_type": "code",
        "colab": {
          "base_uri": "https://localhost:8080/",
          "height": 34
        },
        "outputId": "ac759c64-41cc-4b02-c9f9-3df6d648ac0e"
      },
      "source": [
        "6*np.array([3]) # this is a numpy array"
      ],
      "execution_count": null,
      "outputs": [
        {
          "output_type": "execute_result",
          "data": {
            "text/plain": [
              "array([18])"
            ]
          },
          "metadata": {
            "tags": []
          },
          "execution_count": 32
        }
      ]
    },
    {
      "cell_type": "code",
      "metadata": {
        "id": "PqfA2ZLyW_zr",
        "colab_type": "code",
        "colab": {
          "base_uri": "https://localhost:8080/",
          "height": 34
        },
        "outputId": "058e1610-fd95-4948-8874-a810aeab9e6d"
      },
      "source": [
        "[4,3]+[3,4] # adding lists concatenates them"
      ],
      "execution_count": null,
      "outputs": [
        {
          "output_type": "execute_result",
          "data": {
            "text/plain": [
              "[4, 3, 3, 4]"
            ]
          },
          "metadata": {
            "tags": []
          },
          "execution_count": 33
        }
      ]
    },
    {
      "cell_type": "code",
      "metadata": {
        "id": "rm6Xdr80XWGd",
        "colab_type": "code",
        "colab": {
          "base_uri": "https://localhost:8080/",
          "height": 34
        },
        "outputId": "0e23b409-1771-44b8-b15c-4a0b5a07464e"
      },
      "source": [
        "np.array([3,4]) + np.array([4,3]) # adding numpy arrays adds the elements"
      ],
      "execution_count": null,
      "outputs": [
        {
          "output_type": "execute_result",
          "data": {
            "text/plain": [
              "array([7, 7])"
            ]
          },
          "metadata": {
            "tags": []
          },
          "execution_count": 35
        }
      ]
    },
    {
      "cell_type": "code",
      "metadata": {
        "id": "IyCREzBfXf_A",
        "colab_type": "code",
        "colab": {}
      },
      "source": [
        ""
      ],
      "execution_count": null,
      "outputs": []
    }
  ]
}